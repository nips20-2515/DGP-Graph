{
 "cells": [
  {
   "cell_type": "markdown",
   "metadata": {},
   "source": [
    "# etex data"
   ]
  },
  {
   "cell_type": "code",
   "execution_count": 1,
   "metadata": {},
   "outputs": [
    {
     "name": "stdout",
     "output_type": "stream",
     "text": [
      "tf_ver: 1.15.0 gpflow_ver: 1.5.0\n",
      "avail devices:\n",
      "/device:CPU:0\n",
      "/device:XLA_CPU:0\n",
      "/device:GPU:0\n",
      "/device:XLA_GPU:0\n"
     ]
    },
    {
     "name": "stderr",
     "output_type": "stream",
     "text": [
      "Using TensorFlow backend.\n"
     ]
    }
   ],
   "source": [
    "%matplotlib inline\n",
    "from mpl_toolkits.axes_grid1 import make_axes_locatable\n",
    "import os\n",
    "import sys\n",
    "os.environ[\"CUDA_VISIBLE_DEVICES\"] = '0'  # using specific GPU\n",
    "import tensorflow as tf\n",
    "tf.compat.v1.logging.set_verbosity(tf.compat.v1.logging.ERROR)\n",
    "tf.logging.set_verbosity(tf.logging.ERROR)\n",
    "\n",
    "from compatible.likelihoods import MultiClass, Gaussian\n",
    "from compatible.kernels import RBF, White\n",
    "from gpflow.models.svgp import SVGP\n",
    "from gpflow.training import AdamOptimizer, ScipyOptimizer\n",
    "from scipy.stats import mode\n",
    "from scipy.cluster.vq import kmeans2\n",
    "import gpflow\n",
    "from gpflow.mean_functions import Identity, Linear\n",
    "from gpflow.mean_functions import Zero\n",
    "from gpflow import autoflow, params_as_tensors, ParamList\n",
    "import pandas as pd\n",
    "import itertools\n",
    "pd.options.display.max_rows = 999\n",
    "import gpflow_monitor\n",
    "\n",
    "from scipy.cluster.vq import kmeans2\n",
    "from scipy.stats import norm\n",
    "from scipy.special import logsumexp\n",
    "from scipy.io import loadmat\n",
    "from gpflow_monitor import *\n",
    "print('tf_ver:', tf.__version__, 'gpflow_ver:', gpflow.__version__)\n",
    "from tensorflow.python.client import device_lib\n",
    "print('avail devices:\\n'+'\\n'.join([x.name for x in device_lib.list_local_devices()]))\n",
    "from jack_utils.common import time_it\n",
    "import sys\n",
    "import gpflow.training.monitor as mon\n",
    "\n",
    "# our impl\n",
    "from dgp_graph import *"
   ]
  },
  {
   "cell_type": "code",
   "execution_count": 2,
   "metadata": {},
   "outputs": [],
   "source": [
    "plt.rcParams['figure.dpi'] = 100\n",
    "np.random.seed(123456)"
   ]
  },
  {
   "cell_type": "markdown",
   "metadata": {},
   "source": [
    "# Load data"
   ]
  },
  {
   "cell_type": "code",
   "execution_count": 3,
   "metadata": {},
   "outputs": [
    {
     "name": "stdout",
     "output_type": "stream",
     "text": [
      "raw adj shape: (168, 168)\n"
     ]
    }
   ],
   "source": [
    "path = './data'\n",
    "\n",
    "# Load Adjacency\n",
    "gmat0 = loadmat(os.path.join(path, 'etex_gmat.mat'))['gmat']\n",
    "print('raw adj shape:', gmat0.shape)"
   ]
  },
  {
   "cell_type": "code",
   "execution_count": 4,
   "metadata": {},
   "outputs": [],
   "source": [
    "def normalize_data(data, mu, std):\n",
    "    res = (data-mu) / std\n",
    "    return res\n",
    "    #return data\n",
    "\n",
    "def unnormalize_data(data, mu, std):\n",
    "    res = data * std + mu\n",
    "    return res\n",
    "    #return data"
   ]
  },
  {
   "cell_type": "code",
   "execution_count": 5,
   "metadata": {},
   "outputs": [],
   "source": [
    "trX0 = loadmat(os.path.join(path, 'etex_trX.mat'))['X_train']\n",
    "trY0 = loadmat(os.path.join(path, 'etex_trY.mat'))['Y_train']\n",
    "\n",
    "teX0 = loadmat(os.path.join(path, 'etex_teX.mat'))['X_test']\n",
    "teY0 = loadmat(os.path.join(path, 'etex_teY.mat'))['Y_test']"
   ]
  },
  {
   "cell_type": "code",
   "execution_count": 6,
   "metadata": {},
   "outputs": [],
   "source": [
    "ns=0.01\n",
    "trX0[:,:80] = np.random.rand(*trX0[:,:80].shape)*ns\n",
    "teX0[:,:80] = np.random.rand(*teX0[:,:80].shape)*ns"
   ]
  },
  {
   "cell_type": "code",
   "execution_count": 7,
   "metadata": {},
   "outputs": [
    {
     "data": {
      "text/plain": [
       "(30, 168)"
      ]
     },
     "execution_count": 7,
     "metadata": {},
     "output_type": "execute_result"
    }
   ],
   "source": [
    "trX0.shape"
   ]
  },
  {
   "cell_type": "code",
   "execution_count": 8,
   "metadata": {},
   "outputs": [],
   "source": [
    "trY0, teY0 = trY0[:, :, None], teY0[:, :, None]\n",
    "trX0, teX0 = trX0[:, :, None], teX0[:, :, None]"
   ]
  },
  {
   "cell_type": "code",
   "execution_count": 9,
   "metadata": {},
   "outputs": [],
   "source": [
    "mu_trX0, std_trX0 = np.mean(trX0, axis=0), np.std(trX0, axis=0)\n",
    "mu_trY0, std_trY0 = np.mean(trY0, axis=0), np.std(trY0, axis=0)\n",
    "# mu_teX0, std_teX0 = np.mean(teX0, axis=0), np.std(teX0, axis=0)\n",
    "# mu_teY0, std_teY0 = np.mean(teY0, axis=0), np.std(teY0, axis=0)"
   ]
  },
  {
   "cell_type": "code",
   "execution_count": 10,
   "metadata": {},
   "outputs": [],
   "source": [
    "trX = normalize_data(trX0, mu_trX0, std_trX0)\n",
    "trY = normalize_data(trY0, mu_trY0, std_trY0)\n",
    "teX = normalize_data(teX0, mu_trX0, std_trX0)\n",
    "teY = normalize_data(teY0, mu_trY0, std_trY0)"
   ]
  },
  {
   "cell_type": "code",
   "execution_count": 11,
   "metadata": {},
   "outputs": [],
   "source": [
    "def get_sparsity(adj):\n",
    "    avg_deg = np.mean([np.count_nonzero(x) for x in adj])\n",
    "    return 100*(1 - (np.count_nonzero(adj) / (adj.shape[0]**2))), avg_deg\n",
    "\n",
    "# def thresh(adj0, t=0.1):\n",
    "#     adj = np.copy(adj0)\n",
    "#     adj[adj0>t] = 0\n",
    "#     adj[adj0<=t] = 1\n",
    "#     return adj\n",
    "\n",
    "def thresh(adj0, dg=3):\n",
    "    adj = np.zeros(adj0.shape)\n",
    "    for i in range(adj.shape[0]):\n",
    "        adj[i, np.argsort(adj0[i, :])[:dg]] = 1\n",
    "    return adj"
   ]
  },
  {
   "cell_type": "code",
   "execution_count": 12,
   "metadata": {},
   "outputs": [
    {
     "data": {
      "text/plain": [
       "(94.04761904761905, 10.0)"
      ]
     },
     "execution_count": 12,
     "metadata": {},
     "output_type": "execute_result"
    }
   ],
   "source": [
    "gmat = thresh(gmat0, dg=10)\n",
    "# gmat = gmat0\n",
    "get_sparsity(gmat)"
   ]
  },
  {
   "cell_type": "markdown",
   "metadata": {},
   "source": [
    "gmat = np.eye(gmat.shape[0])"
   ]
  },
  {
   "cell_type": "markdown",
   "metadata": {},
   "source": [
    "# Data visualization"
   ]
  },
  {
   "cell_type": "code",
   "execution_count": 13,
   "metadata": {},
   "outputs": [
    {
     "data": {
      "image/png": "[encoded data removed]",
      "text/plain": [
       "<Figure size 600x400 with 4 Axes>"
      ]
     },
     "metadata": {
      "needs_background": "light"
     },
     "output_type": "display_data"
    }
   ],
   "source": [
    "import matplotlib.gridspec as gridspec\n",
    "\n",
    "fig, axes = plt.subplots(1,3)\n",
    "# for ax in axes.flat:\n",
    "axes[0].imshow(gmat, vmin=0, vmax=1, aspect='auto')\n",
    "axes[1].imshow(trX0.reshape(trX0.shape[0],-1), vmin=-1, vmax=1, aspect='auto')\n",
    "im = axes[2].imshow(trY0.reshape(trY0.shape[0],-1), vmin=-1, vmax=1, aspect='auto')\n",
    "\n",
    "\n",
    "plt.subplots_adjust(right=2)\n",
    "fig.colorbar(im, ax=axes.ravel().tolist())\n",
    "plt.show()"
   ]
  },
  {
   "cell_type": "code",
   "execution_count": 14,
   "metadata": {},
   "outputs": [],
   "source": [
    "def imshow2d(x):\n",
    "    plt.imshow(x.reshape(x.shape[0], -1))\n",
    "    plt.colorbar()"
   ]
  },
  {
   "cell_type": "code",
   "execution_count": 15,
   "metadata": {},
   "outputs": [
    {
     "data": {
      "text/plain": [
       "<matplotlib.colorbar.Colorbar at 0x7f0fd813df90>"
      ]
     },
     "execution_count": 15,
     "metadata": {},
     "output_type": "execute_result"
    },
    {
     "data": {
      "image/png": "[encoded data removed]",
      "text/plain": [
       "<Figure size 600x400 with 2 Axes>"
      ]
     },
     "metadata": {
      "needs_background": "light"
     },
     "output_type": "display_data"
    }
   ],
   "source": [
    "plt.imshow(gmat)\n",
    "plt.colorbar()"
   ]
  },
  {
   "cell_type": "markdown",
   "metadata": {},
   "source": [
    "# Training"
   ]
  },
  {
   "cell_type": "code",
   "execution_count": 16,
   "metadata": {},
   "outputs": [],
   "source": [
    "from sklearn.svm import SVR\n",
    "\n",
    "svr_pred0 = np.zeros(teY.shape)\n",
    "\n",
    "for k in range(gmat.shape[1]):\n",
    "    idx = (gmat[k, :] == 1)\n",
    "    regx = trX[:, idx, :]\n",
    "    regx = regx.reshape(regx.shape[0], -1)\n",
    "    regy = trY[:, k, :].reshape(-1)\n",
    "    \n",
    "    svr = SVR(kernel='rbf')\n",
    "    m = svr.fit(regx, regy)\n",
    "    \n",
    "    predx = teX[:, idx, :]\n",
    "    predx = predx.reshape(predx.shape[0], -1)    \n",
    "    predy = m.predict(predx)\n",
    "    \n",
    "    svr_pred0[:, k, 0] = predy\n",
    "\n",
    "svr_predY = unnormalize_data(svr_pred0, mu_trY0, std_trY0)"
   ]
  },
  {
   "cell_type": "code",
   "execution_count": 17,
   "metadata": {},
   "outputs": [],
   "source": [
    "from sklearn import tree\n",
    "\n",
    "tree_pred0 = np.zeros(teY.shape)\n",
    "\n",
    "for k in range(gmat.shape[1]):\n",
    "    idx = (gmat[k, :] == 1)\n",
    "    regx = trX[:, idx, :]\n",
    "    regx = regx.reshape(regx.shape[0], -1)\n",
    "    regy = trY[:, k, :].reshape(-1)\n",
    "    \n",
    "    ttree = tree.DecisionTreeRegressor(random_state=0, max_depth=3)\n",
    "    m = ttree.fit(regx, regy)\n",
    "    \n",
    "    predx = teX[:, idx, :]\n",
    "    predx = predx.reshape(predx.shape[0], -1)    \n",
    "    predy = m.predict(predx)\n",
    "    \n",
    "    tree_pred0[:, k, 0] = predy\n",
    "\n",
    "tree_predY = unnormalize_data(tree_pred0, mu_trY0, std_trY0)"
   ]
  },
  {
   "cell_type": "code",
   "execution_count": 18,
   "metadata": {},
   "outputs": [
    {
     "name": "stderr",
     "output_type": "stream",
     "text": [
      "/home/linaiqi/anaconda3/lib/python3.7/site-packages/sklearn/neural_network/multilayer_perceptron.py:566: ConvergenceWarning: Stochastic Optimizer: Maximum iterations (200) reached and the optimization hasn't converged yet.\n",
      "  % self.max_iter, ConvergenceWarning)\n",
      "/home/linaiqi/anaconda3/lib/python3.7/site-packages/sklearn/neural_network/multilayer_perceptron.py:566: ConvergenceWarning: Stochastic Optimizer: Maximum iterations (200) reached and the optimization hasn't converged yet.\n",
      "  % self.max_iter, ConvergenceWarning)\n",
      "/home/linaiqi/anaconda3/lib/python3.7/site-packages/sklearn/neural_network/multilayer_perceptron.py:566: ConvergenceWarning: Stochastic Optimizer: Maximum iterations (200) reached and the optimization hasn't converged yet.\n",
      "  % self.max_iter, ConvergenceWarning)\n",
      "/home/linaiqi/anaconda3/lib/python3.7/site-packages/sklearn/neural_network/multilayer_perceptron.py:566: ConvergenceWarning: Stochastic Optimizer: Maximum iterations (200) reached and the optimization hasn't converged yet.\n",
      "  % self.max_iter, ConvergenceWarning)\n",
      "/home/linaiqi/anaconda3/lib/python3.7/site-packages/sklearn/neural_network/multilayer_perceptron.py:566: ConvergenceWarning: Stochastic Optimizer: Maximum iterations (200) reached and the optimization hasn't converged yet.\n",
      "  % self.max_iter, ConvergenceWarning)\n",
      "/home/linaiqi/anaconda3/lib/python3.7/site-packages/sklearn/neural_network/multilayer_perceptron.py:566: ConvergenceWarning: Stochastic Optimizer: Maximum iterations (200) reached and the optimization hasn't converged yet.\n",
      "  % self.max_iter, ConvergenceWarning)\n",
      "/home/linaiqi/anaconda3/lib/python3.7/site-packages/sklearn/neural_network/multilayer_perceptron.py:566: ConvergenceWarning: Stochastic Optimizer: Maximum iterations (200) reached and the optimization hasn't converged yet.\n",
      "  % self.max_iter, ConvergenceWarning)\n",
      "/home/linaiqi/anaconda3/lib/python3.7/site-packages/sklearn/neural_network/multilayer_perceptron.py:566: ConvergenceWarning: Stochastic Optimizer: Maximum iterations (200) reached and the optimization hasn't converged yet.\n",
      "  % self.max_iter, ConvergenceWarning)\n",
      "/home/linaiqi/anaconda3/lib/python3.7/site-packages/sklearn/neural_network/multilayer_perceptron.py:566: ConvergenceWarning: Stochastic Optimizer: Maximum iterations (200) reached and the optimization hasn't converged yet.\n",
      "  % self.max_iter, ConvergenceWarning)\n",
      "/home/linaiqi/anaconda3/lib/python3.7/site-packages/sklearn/neural_network/multilayer_perceptron.py:566: ConvergenceWarning: Stochastic Optimizer: Maximum iterations (200) reached and the optimization hasn't converged yet.\n",
      "  % self.max_iter, ConvergenceWarning)\n",
      "/home/linaiqi/anaconda3/lib/python3.7/site-packages/sklearn/neural_network/multilayer_perceptron.py:566: ConvergenceWarning: Stochastic Optimizer: Maximum iterations (200) reached and the optimization hasn't converged yet.\n",
      "  % self.max_iter, ConvergenceWarning)\n",
      "/home/linaiqi/anaconda3/lib/python3.7/site-packages/sklearn/neural_network/multilayer_perceptron.py:566: ConvergenceWarning: Stochastic Optimizer: Maximum iterations (200) reached and the optimization hasn't converged yet.\n",
      "  % self.max_iter, ConvergenceWarning)\n",
      "/home/linaiqi/anaconda3/lib/python3.7/site-packages/sklearn/neural_network/multilayer_perceptron.py:566: ConvergenceWarning: Stochastic Optimizer: Maximum iterations (200) reached and the optimization hasn't converged yet.\n",
      "  % self.max_iter, ConvergenceWarning)\n",
      "/home/linaiqi/anaconda3/lib/python3.7/site-packages/sklearn/neural_network/multilayer_perceptron.py:566: ConvergenceWarning: Stochastic Optimizer: Maximum iterations (200) reached and the optimization hasn't converged yet.\n",
      "  % self.max_iter, ConvergenceWarning)\n",
      "/home/linaiqi/anaconda3/lib/python3.7/site-packages/sklearn/neural_network/multilayer_perceptron.py:566: ConvergenceWarning: Stochastic Optimizer: Maximum iterations (200) reached and the optimization hasn't converged yet.\n",
      "  % self.max_iter, ConvergenceWarning)\n",
      "/home/linaiqi/anaconda3/lib/python3.7/site-packages/sklearn/neural_network/multilayer_perceptron.py:566: ConvergenceWarning: Stochastic Optimizer: Maximum iterations (200) reached and the optimization hasn't converged yet.\n",
      "  % self.max_iter, ConvergenceWarning)\n"
     ]
    }
   ],
   "source": [
    "from sklearn.neural_network import MLPRegressor\n",
    "\n",
    "mlp_pred0 = np.zeros(teY.shape)\n",
    "\n",
    "for k in range(gmat.shape[1]):\n",
    "    idx = (gmat[k, :] == 1)\n",
    "    regx = trX[:, idx, :]\n",
    "    regx = regx.reshape(regx.shape[0], -1)\n",
    "    regy = trY[:, k, :].reshape(-1)\n",
    "    \n",
    "    mlp_ = MLPRegressor(hidden_layer_sizes=(100, 100))\n",
    "    m = mlp_.fit(regx, regy)\n",
    "    \n",
    "    predx = teX[:, idx, :]\n",
    "    predx = predx.reshape(predx.shape[0], -1)    \n",
    "    predy = m.predict(predx)\n",
    "    \n",
    "    mlp_pred0[:, k, 0] = predy\n",
    "\n",
    "mlp_predY = unnormalize_data(mlp_pred0, mu_trY0, std_trY0)"
   ]
  },
  {
   "cell_type": "code",
   "execution_count": null,
   "metadata": {},
   "outputs": [],
   "source": []
  },
  {
   "cell_type": "code",
   "execution_count": 19,
   "metadata": {},
   "outputs": [],
   "source": [
    "from jack_utils.my_metrics import *"
   ]
  },
  {
   "cell_type": "code",
   "execution_count": 20,
   "metadata": {},
   "outputs": [],
   "source": [
    "# make predictions of our model\n",
    "sample_X0, sample_Y0 = teX0, teY0.squeeze()\n",
    "sample_X, sample_Y = teX, teY.squeeze()"
   ]
  },
  {
   "cell_type": "code",
   "execution_count": 21,
   "metadata": {},
   "outputs": [
    {
     "name": "stdout",
     "output_type": "stream",
     "text": [
      "metrics:\t[mae | rmse | mape]\n",
      "SVR:\t [0.18375, 0.31102, 0.18375]\n",
      "TREE:\t [0.13753, 0.31004, 0.13753]\n",
      "MLP:\t [0.16679, 0.31072, 0.1654]\n",
      "day-mean:\t [0.398054, 0.44586, 0.398054]\n",
      "day_median:\t [0.351129, 0.495685, 0.351129]\n"
     ]
    }
   ],
   "source": [
    "mean_base = np.tile(sample_Y0.mean(axis=0).reshape(1,-1), (sample_X0.shape[0], 1))\n",
    "median_base = np.tile(np.median(sample_Y0, axis=0).reshape(1,-1), (sample_X0.shape[0], 1))\n",
    "\n",
    "\n",
    "# show rmse of all baselines\n",
    "metrics = [np_mae, np_rmse, np_mape]\n",
    "e_ha = [np.round(f(mean_base, sample_Y0.squeeze()), 6) for f in metrics]\n",
    "e_mid = [np.round(f(median_base, sample_Y0.squeeze()), 6) for f in metrics]\n",
    "e_svr = [np.round(f(svr_predY.squeeze(), sample_Y0.squeeze()), 5) for f in metrics]\n",
    "e_tree = [np.round(f(tree_predY.squeeze(), sample_Y0.squeeze()), 5) for f in metrics]\n",
    "e_mlp = [np.round(f(mlp_predY.squeeze(), sample_Y0.squeeze()), 5) for f in metrics]\n",
    "print('metrics:\\t[mae | rmse | mape]')\n",
    "print('SVR:\\t', e_svr)\n",
    "print('TREE:\\t', e_tree)\n",
    "print('MLP:\\t', e_mlp)\n",
    "print('day-mean:\\t', e_ha)\n",
    "print('day_median:\\t', e_mid)"
   ]
  },
  {
   "cell_type": "code",
   "execution_count": null,
   "metadata": {},
   "outputs": [],
   "source": []
  }
 ],
 "metadata": {
  "hide_input": false,
  "kernelspec": {
   "display_name": "Python 3",
   "language": "python",
   "name": "python3"
  },
  "language_info": {
   "codemirror_mode": {
    "name": "ipython",
    "version": 3
   },
   "file_extension": ".py",
   "mimetype": "text/x-python",
   "name": "python",
   "nbconvert_exporter": "python",
   "pygments_lexer": "ipython3",
   "version": "3.7.4"
  },
  "toc": {
   "base_numbering": 1,
   "nav_menu": {
    "height": "142px",
    "width": "301px"
   },
   "number_sections": true,
   "sideBar": true,
   "skip_h1_title": false,
   "title_cell": "Table of Contents",
   "title_sidebar": "Contents",
   "toc_cell": false,
   "toc_position": {
    "height": "calc(100% - 180px)",
    "left": "10px",
    "top": "150px",
    "width": "256px"
   },
   "toc_section_display": true,
   "toc_window_display": true
  }
 },
 "nbformat": 4,
 "nbformat_minor": 2
}
